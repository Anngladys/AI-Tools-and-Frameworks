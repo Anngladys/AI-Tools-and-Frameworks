{
 "cells": [
  {
   "cell_type": "code",
   "execution_count": 1,
   "id": "59568f6d",
   "metadata": {},
   "outputs": [
    {
     "name": "stdout",
     "output_type": "stream",
     "text": [
      "spaCy model loaded successfully!\n"
     ]
    }
   ],
   "source": [
    "# Cell 1: Import Libraries\n",
    "import spacy\n",
    "\n",
    "# Load the English spaCy model (ensure you've run 'python -m spacy download en_core_web_sm' in terminal)\n",
    "try:\n",
    "    nlp = spacy.load(\"en_core_web_sm\")\n",
    "    print(\"spaCy model loaded successfully!\")\n",
    "except OSError:\n",
    "    print(\"SpaCy model not found. Please run 'python -m spacy download en_core_web_sm' in your terminal and try again.\")\n",
    "    exit() # Exit if model not loaded"
   ]
  },
  {
   "cell_type": "code",
   "execution_count": 2,
   "id": "22afdfd0",
   "metadata": {},
   "outputs": [
    {
     "name": "stdout",
     "output_type": "stream",
     "text": [
      "Sample review texts defined.\n"
     ]
    }
   ],
   "source": [
    "# Cell 2: Define Sample Review Texts\n",
    "review_texts = [\n",
    "    \"The new iPhone 15 Pro is an amazing device. Apple has outdone themselves.\",\n",
    "    \"This Samsung Galaxy S24 has a terrible battery life. Very disappointed with the brand.\",\n",
    "    \"Excellent Bose QuietComfort headphones! Sound quality is superb.\",\n",
    "    \"I bought a cheap knockoff charger, it stopped working in a week. Don't waste your money.\",\n",
    "    \"The Sony PlayStation 5 is fantastic for gaming, but it's often out of stock.\",\n",
    "    \"My new Kindle Oasis arrived quickly. It's great for reading, a truly portable library.\",\n",
    "    \"Terrible experience with this Dell XPS laptop, constant crashes.\"\n",
    "]\n",
    "\n",
    "print(\"Sample review texts defined.\")"
   ]
  },
  {
   "cell_type": "code",
   "execution_count": 3,
   "id": "5a0a9e9c",
   "metadata": {},
   "outputs": [
    {
     "name": "stdout",
     "output_type": "stream",
     "text": [
      "--- Named Entity Recognition (NER) ---\n",
      "\n",
      "Review 1: \"The new iPhone 15 Pro is an amazing device. Apple has outdone themselves.\"\n",
      "  - Entity: 'Apple' (Type: ORG)\n",
      "\n",
      "Review 2: \"This Samsung Galaxy S24 has a terrible battery life. Very disappointed with the brand.\"\n",
      "\n",
      "Review 3: \"Excellent Bose QuietComfort headphones! Sound quality is superb.\"\n",
      "  - Entity: 'Bose QuietComfort' (Type: PERSON)\n",
      "\n",
      "Review 4: \"I bought a cheap knockoff charger, it stopped working in a week. Don't waste your money.\"\n",
      "\n",
      "Review 5: \"The Sony PlayStation 5 is fantastic for gaming, but it's often out of stock.\"\n",
      "  - Entity: 'Sony' (Type: ORG)\n",
      "  - Entity: 'PlayStation 5' (Type: PRODUCT)\n",
      "\n",
      "Review 6: \"My new Kindle Oasis arrived quickly. It's great for reading, a truly portable library.\"\n",
      "  - Entity: 'Kindle Oasis' (Type: ORG)\n",
      "\n",
      "Review 7: \"Terrible experience with this Dell XPS laptop, constant crashes.\"\n",
      "  - Entity: 'Dell XPS' (Type: ORG)\n"
     ]
    }
   ],
   "source": [
    "# Cell 3: Perform Named Entity Recognition (NER)\n",
    "print(\"--- Named Entity Recognition (NER) ---\")\n",
    "extracted_entities = []\n",
    "\n",
    "for i, text in enumerate(review_texts):\n",
    "    doc = nlp(text)\n",
    "    entities_in_review = []\n",
    "    print(f\"\\nReview {i+1}: \\\"{text}\\\"\")\n",
    "    for ent in doc.ents:\n",
    "        # We're primarily interested in products, organizations, and potentially people (as brand founders)\n",
    "        if ent.label_ in [\"ORG\", \"PRODUCT\", \"GPE\", \"PERSON\", \"NORP\"]: # Added more common relevant labels\n",
    "            entities_in_review.append({\"text\": ent.text, \"label\": ent.label_})\n",
    "            print(f\"  - Entity: '{ent.text}' (Type: {ent.label_})\")\n",
    "    extracted_entities.append(entities_in_review)"
   ]
  },
  {
   "cell_type": "code",
   "execution_count": 4,
   "id": "c68678e8",
   "metadata": {},
   "outputs": [
    {
     "name": "stdout",
     "output_type": "stream",
     "text": [
      "\n",
      "--- Sentiment Analysis (Rule-Based) ---\n",
      "\n",
      "Review 1: \"The new iPhone 15 Pro is an amazing device. Apple has outdone themselves.\"\n",
      "  - Sentiment: Positive\n",
      "\n",
      "Review 2: \"This Samsung Galaxy S24 has a terrible battery life. Very disappointed with the brand.\"\n",
      "  - Sentiment: Negative\n",
      "\n",
      "Review 3: \"Excellent Bose QuietComfort headphones! Sound quality is superb.\"\n",
      "  - Sentiment: Positive\n",
      "\n",
      "Review 4: \"I bought a cheap knockoff charger, it stopped working in a week. Don't waste your money.\"\n",
      "  - Sentiment: Negative\n",
      "\n",
      "Review 5: \"The Sony PlayStation 5 is fantastic for gaming, but it's often out of stock.\"\n",
      "  - Sentiment: Positive\n",
      "\n",
      "Review 6: \"My new Kindle Oasis arrived quickly. It's great for reading, a truly portable library.\"\n",
      "  - Sentiment: Positive\n",
      "\n",
      "Review 7: \"Terrible experience with this Dell XPS laptop, constant crashes.\"\n",
      "  - Sentiment: Negative\n"
     ]
    }
   ],
   "source": [
    "# Cell 4: Analyze Sentiment (Rule-Based Approach)\n",
    "print(\"\\n--- Sentiment Analysis (Rule-Based) ---\")\n",
    "\n",
    "positive_words = [\"amazing\", \"excellent\", \"superb\", \"fantastic\", \"great\", \"love\", \"good\", \"happy\", \"satisfied\", \"quick\"]\n",
    "negative_words = [\"terrible\", \"disappointed\", \"stopped working\", \"waste\", \"cheap\", \"constant crashes\", \"bad\", \"slow\", \"poor\"]\n",
    "\n",
    "def analyze_sentiment_rule_based(text):\n",
    "    text_lower = text.lower()\n",
    "    pos_score = sum(1 for word in positive_words if word in text_lower)\n",
    "    neg_score = sum(1 for word in negative_words if word in text_lower)\n",
    "\n",
    "    if pos_score > neg_score:\n",
    "        return \"Positive\"\n",
    "    elif neg_score > pos_score:\n",
    "        return \"Negative\"\n",
    "    else:\n",
    "        return \"Neutral\" # Or if pos_score == neg_score\n",
    "\n",
    "for i, text in enumerate(review_texts):\n",
    "    sentiment = analyze_sentiment_rule_based(text)\n",
    "    print(f\"\\nReview {i+1}: \\\"{text}\\\"\")\n",
    "    print(f\"  - Sentiment: {sentiment}\")"
   ]
  },
  {
   "cell_type": "code",
   "execution_count": 5,
   "id": "314f6c02",
   "metadata": {},
   "outputs": [
    {
     "name": "stdout",
     "output_type": "stream",
     "text": [
      "spaCy Version: 3.8.7\n",
      "Libraries imported successfully!\n"
     ]
    }
   ],
   "source": [
    "# Cell 1: Import Libraries\n",
    "import spacy\n",
    "import pandas as pd\n",
    "import random\n",
    "\n",
    "print(f\"spaCy Version: {spacy.__version__}\")\n",
    "print(\"Libraries imported successfully!\")"
   ]
  },
  {
   "cell_type": "code",
   "execution_count": 6,
   "id": "588f943d",
   "metadata": {},
   "outputs": [
    {
     "name": "stdout",
     "output_type": "stream",
     "text": [
      "spaCy 'en_core_web_sm' model loaded successfully.\n"
     ]
    }
   ],
   "source": [
    "# Cell 2: Load spaCy English Model\n",
    "try:\n",
    "    # Load the small English model\n",
    "    nlp = spacy.load(\"en_core_web_sm\")\n",
    "    print(\"spaCy 'en_core_web_sm' model loaded successfully.\")\n",
    "except OSError:\n",
    "    print(\"spaCy model 'en_core_web_sm' not found. Downloading...\")\n",
    "    spacy.cli.download(\"en_core_web_sm\")\n",
    "    nlp = spacy.load(\"en_core_web_sm\")\n",
    "    print(\"spaCy model 'en_core_web_sm' downloaded and loaded successfully.\")\n",
    "    "
   ]
  },
  {
   "cell_type": "code",
   "execution_count": 7,
   "id": "6482031e",
   "metadata": {},
   "outputs": [
    {
     "name": "stdout",
     "output_type": "stream",
     "text": [
      "Sample Amazon reviews loaded.\n"
     ]
    }
   ],
   "source": [
    "# Cell 3: Sample Text Data (Amazon Reviews style)\n",
    "amazon_reviews = [\n",
    "    \"The product is excellent! Very happy with the purchase.\",\n",
    "    \"Battery life is terrible, died after 2 hours. Very disappointed.\",\n",
    "    \"Works as expected, good value for money. Highly recommended.\",\n",
    "    \"This is the worst item I've ever bought. A complete waste of money.\",\n",
    "    \"It's okay, not great, not bad. Just mediocre.\",\n",
    "    \"Fantastic performance, totally exceeded my expectations!\",\n",
    "    \"Wish it had more features, but it's decent for the price.\",\n",
    "    \"The delivery was fast, but the item was damaged.\",\n",
    "    \"Absolutely love this! The design is sleek and it's so easy to use.\",\n",
    "    \"Received a broken one. Customer service was unhelpful.\"\n",
    "]\n",
    "\n",
    "print(\"Sample Amazon reviews loaded.\")"
   ]
  },
  {
   "cell_type": "code",
   "execution_count": 8,
   "id": "5ce1f7a7",
   "metadata": {},
   "outputs": [
    {
     "name": "stdout",
     "output_type": "stream",
     "text": [
      "--- Tokenization, POS Tagging, and Lemmatization ---\n",
      "\n",
      "Review 1: 'The product is excellent! Very happy with the purchase.'\n",
      "Token           Lemma           POS        Is Alpha?  Stopword? \n",
      "----------------------------------------------------------------------\n",
      "The             the             DET        True       True      \n",
      "product         product         NOUN       True       False     \n",
      "is              be              AUX        True       True      \n",
      "excellent       excellent       ADJ        True       False     \n",
      "!               !               PUNCT      False      False     \n",
      "Very            very            ADV        True       True      \n",
      "happy           happy           ADJ        True       False     \n",
      "with            with            ADP        True       True      \n",
      "the             the             DET        True       True      \n",
      "purchase        purchase        NOUN       True       False     \n",
      ".               .               PUNCT      False      False     \n",
      "\n",
      "Review 2: 'Battery life is terrible, died after 2 hours. Very disappointed.'\n",
      "Token           Lemma           POS        Is Alpha?  Stopword? \n",
      "----------------------------------------------------------------------\n",
      "Battery         battery         NOUN       True       False     \n",
      "life            life            NOUN       True       False     \n",
      "is              be              AUX        True       True      \n",
      "terrible        terrible        ADJ        True       False     \n",
      ",               ,               PUNCT      False      False     \n",
      "died            die             VERB       True       False     \n",
      "after           after           ADP        True       True      \n",
      "2               2               NUM        False      False     \n",
      "hours           hour            NOUN       True       False     \n",
      ".               .               PUNCT      False      False     \n",
      "Very            very            ADV        True       True      \n",
      "disappointed    disappointed    ADJ        True       False     \n",
      ".               .               PUNCT      False      False     \n",
      "\n",
      "Review 3: 'Works as expected, good value for money. Highly recommended.'\n",
      "Token           Lemma           POS        Is Alpha?  Stopword? \n",
      "----------------------------------------------------------------------\n",
      "Works           work            NOUN       True       False     \n",
      "as              as              SCONJ      True       True      \n",
      "expected        expect          VERB       True       False     \n",
      ",               ,               PUNCT      False      False     \n",
      "good            good            ADJ        True       False     \n",
      "value           value           NOUN       True       False     \n",
      "for             for             ADP        True       True      \n",
      "money           money           NOUN       True       False     \n",
      ".               .               PUNCT      False      False     \n",
      "Highly          highly          ADV        True       False     \n",
      "recommended     recommend       VERB       True       False     \n",
      ".               .               PUNCT      False      False     \n"
     ]
    }
   ],
   "source": [
    "# Cell 4: Tokenization, POS Tagging, and Lemmatization\n",
    "print(\"--- Tokenization, POS Tagging, and Lemmatization ---\")\n",
    "for i, text in enumerate(amazon_reviews[:3]): # Process first 3 reviews for brevity\n",
    "    doc = nlp(text)\n",
    "    print(f\"\\nReview {i+1}: '{text}'\")\n",
    "    print(f\"{'Token':<15} {'Lemma':<15} {'POS':<10} {'Is Alpha?':<10} {'Stopword?':<10}\")\n",
    "    print(\"-\" * 70)\n",
    "    for token in doc:\n",
    "        print(f\"{str(token):<15} {token.lemma_:<15} {token.pos_:<10} {str(token.is_alpha):<10} {str(token.is_stop):<10}\")"
   ]
  },
  {
   "cell_type": "code",
   "execution_count": 9,
   "id": "780ebc51",
   "metadata": {},
   "outputs": [
    {
     "name": "stdout",
     "output_type": "stream",
     "text": [
      "\n",
      "--- Named Entity Recognition (NER) ---\n",
      "\n",
      "Review 1: 'The product is excellent! Very happy with the purchase.' - No entities found.\n",
      "\n",
      "Review 2: 'Battery life is terrible, died after 2 hours. Very disappointed.'\n",
      "  Entity: 2 hours, Type: TIME, SpaCy Explanation: Times smaller than a day\n",
      "\n",
      "Review 3: 'Works as expected, good value for money. Highly recommended.' - No entities found.\n",
      "\n",
      "Review 4: 'This is the worst item I've ever bought. A complete waste of money.' - No entities found.\n",
      "\n",
      "Review 5: 'It's okay, not great, not bad. Just mediocre.' - No entities found.\n",
      "\n",
      "Review 6: 'Fantastic performance, totally exceeded my expectations!'\n",
      "  Entity: Fantastic, Type: NORP, SpaCy Explanation: Nationalities or religious or political groups\n",
      "\n",
      "Review 7: 'Wish it had more features, but it's decent for the price.' - No entities found.\n",
      "\n",
      "Review 8: 'The delivery was fast, but the item was damaged.' - No entities found.\n",
      "\n",
      "Review 9: 'Absolutely love this! The design is sleek and it's so easy to use.' - No entities found.\n",
      "\n",
      "Review 10: 'Received a broken one. Customer service was unhelpful.' - No entities found.\n"
     ]
    }
   ],
   "source": [
    "# Cell 5: Named Entity Recognition (NER)\n",
    "print(\"\\n--- Named Entity Recognition (NER) ---\")\n",
    "for i, text in enumerate(amazon_reviews):\n",
    "    doc = nlp(text)\n",
    "    if doc.ents:\n",
    "        print(f\"\\nReview {i+1}: '{text}'\")\n",
    "        for ent in doc.ents:\n",
    "            print(f\"  Entity: {ent.text}, Type: {ent.label_}, SpaCy Explanation: {spacy.explain(ent.label_)}\")\n",
    "    else:\n",
    "        print(f\"\\nReview {i+1}: '{text}' - No entities found.\")"
   ]
  },
  {
   "cell_type": "code",
   "execution_count": 10,
   "id": "cffecf0e",
   "metadata": {},
   "outputs": [
    {
     "name": "stdout",
     "output_type": "stream",
     "text": [
      "\n",
      "--- Basic Rule-Based Sentiment Analysis (Illustrative) ---\n",
      "Review 1: 'The product is excellent! Very happy with the purchase.'\n",
      "  Sentiment: Positive\n",
      "\n",
      "Review 2: 'Battery life is terrible, died after 2 hours. Very disappointed.'\n",
      "  Sentiment: Negative\n",
      "\n",
      "Review 3: 'Works as expected, good value for money. Highly recommended.'\n",
      "  Sentiment: Positive\n",
      "\n",
      "Review 4: 'This is the worst item I've ever bought. A complete waste of money.'\n",
      "  Sentiment: Negative\n",
      "\n",
      "Review 5: 'It's okay, not great, not bad. Just mediocre.'\n",
      "  Sentiment: Negative\n",
      "\n",
      "Review 6: 'Fantastic performance, totally exceeded my expectations!'\n",
      "  Sentiment: Positive\n",
      "\n",
      "Review 7: 'Wish it had more features, but it's decent for the price.'\n",
      "  Sentiment: Neutral\n",
      "\n",
      "Review 8: 'The delivery was fast, but the item was damaged.'\n",
      "  Sentiment: Negative\n",
      "\n",
      "Review 9: 'Absolutely love this! The design is sleek and it's so easy to use.'\n",
      "  Sentiment: Positive\n",
      "\n",
      "Review 10: 'Received a broken one. Customer service was unhelpful.'\n",
      "  Sentiment: Negative\n",
      "\n",
      "\n",
      "Note: This is a very simplistic rule-based sentiment analysis.\n",
      "It lacks context understanding, sarcasm detection, and nuances. For example:\n",
      "Review: 'This is great, another broken item!' (Should be Negative)\n",
      "  Simple rule-based analysis: Negative\n",
      "\n",
      "Advanced NLP (like machine learning models or deep learning) is needed for robust sentiment analysis.\n"
     ]
    }
   ],
   "source": [
    "# Cell 6: Basic Rule-Based Sentiment Analysis (Illustrative - very simple)\n",
    "print(\"\\n--- Basic Rule-Based Sentiment Analysis (Illustrative) ---\")\n",
    "\n",
    "positive_words = [\"excellent\", \"happy\", \"good\", \"recommended\", \"fantastic\", \"love\", \"sleek\", \"easy\"]\n",
    "negative_words = [\"terrible\", \"disappointed\", \"worst\", \"waste\", \"mediocre\", \"damaged\", \"unhelpful\", \"broken\"]\n",
    "\n",
    "def simple_sentiment(text):\n",
    "    doc = nlp(text.lower()) # Process lowercase text\n",
    "    sentiment_score = 0\n",
    "    for token in doc:\n",
    "        if token.text in positive_words:\n",
    "            sentiment_score += 1\n",
    "        elif token.text in negative_words:\n",
    "            sentiment_score -= 1\n",
    "    if sentiment_score > 0:\n",
    "        return \"Positive\"\n",
    "    elif sentiment_score < 0:\n",
    "        return \"Negative\"\n",
    "    else:\n",
    "        return \"Neutral\"\n",
    "\n",
    "for i, review in enumerate(amazon_reviews):\n",
    "    sentiment = simple_sentiment(review)\n",
    "    print(f\"Review {i+1}: '{review}'\\n  Sentiment: {sentiment}\\n\")\n",
    "\n",
    "print(\"\\nNote: This is a very simplistic rule-based sentiment analysis.\")\n",
    "print(\"It lacks context understanding, sarcasm detection, and nuances. For example:\")\n",
    "print(\"Review: 'This is great, another broken item!' (Should be Negative)\")\n",
    "doc_sarcasm = nlp(\"This is great, another broken item!\")\n",
    "print(f\"  Simple rule-based analysis: {simple_sentiment(str(doc_sarcasm))}\")\n",
    "print(\"\\nAdvanced NLP (like machine learning models or deep learning) is needed for robust sentiment analysis.\")"
   ]
  },
  {
   "cell_type": "code",
   "execution_count": null,
   "id": "6e58aeb6",
   "metadata": {},
   "outputs": [],
   "source": []
  }
 ],
 "metadata": {
  "kernelspec": {
   "display_name": "venv",
   "language": "python",
   "name": "python3"
  },
  "language_info": {
   "codemirror_mode": {
    "name": "ipython",
    "version": 3
   },
   "file_extension": ".py",
   "mimetype": "text/x-python",
   "name": "python",
   "nbconvert_exporter": "python",
   "pygments_lexer": "ipython3",
   "version": "3.11.8"
  }
 },
 "nbformat": 4,
 "nbformat_minor": 5
}
